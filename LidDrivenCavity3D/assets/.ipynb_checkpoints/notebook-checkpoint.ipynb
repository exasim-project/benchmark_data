{
 "cells": [
  {
   "cell_type": "code",
   "execution_count": 29,
   "id": "74a6689e-147c-4f7b-ac37-de6d9d12b617",
   "metadata": {
    "tags": []
   },
   "outputs": [],
   "source": [
    "import exasim_plot_helpers as eph\n",
    "import ipywidgets\n",
    "from obr.core.queries import query_to_dataframe, query_to_records\n",
    "from copy import deepcopy\n",
    "import numpy as np\n",
    "import pandas as pd\n",
    "\n",
    "import seaborn\n",
    "from copy import deepcopy"
   ]
  },
  {
   "cell_type": "code",
   "execution_count": 34,
   "id": "71b84c48-91cd-4442-8084-eb6cfc8744ac",
   "metadata": {
    "tags": []
   },
   "outputs": [],
   "source": [
    "def post_pro_df(df):\n",
    "    df[\"SolvePperIter\"] = df[\"SolveP\"]/df[\"iter_p\"]\n",
    "\n",
    "def generate_df(case):\n",
    "    folder = \"/home/greole/data/code/exasim_project/benchmark_data/\" + case\n",
    "    jobs = eph.signac_conversion.to_jobs(folder)\n",
    "    q = list(eph.signac_conversion.build_annotated_query()) + list(eph.signac_conversion.build_gko_query(\"p\"))\n",
    "    df = query_to_dataframe(jobs, q, index=[\"nCells\", \"solver\", \"executor\", \"nSubDomains\", \"preconditioner\"])\n",
    "    df = df.drop(df[\"TimeStep\"].isnull())\n",
    "    return df\n",
    "\n",
    "dfs = { case:generate_df(case) for case in [\"LidDrivenCavity3D\", \"WindsorBody\"]}\n",
    "\n",
    "hip = eph.plot_funcs.FacetedPlotSpecification.generate(\n",
    "    fix_queries = [\n",
    "             eph.helpers.DFQuery(idx=\"executor\", val=\"hip\"), \n",
    "             eph.helpers.DFQuery(idx=\"preconditioner\", val=\"none\"), \n",
    "            ],\n",
    "    fix_properties = {\"linestyle\": \"-\"},\n",
    "    facet_idx = \"nSubDomains\",\n",
    "    variable_properties = \n",
    "        {8: {\"color\": \"blue\", \"legend\": \"GPU_8\"},\n",
    "         16: {\"color\": \"green\", \"legend\": \"GPU_16\"},\n",
    "         32: {\"color\": \"black\", \"legend\": \"GPU_32\"},\n",
    "        }\n",
    ")\n",
    "\n",
    "cpu_32 = eph.plot_funcs.PlotSpecification(\n",
    "        legend = \"CPU\",\n",
    "        queries =  [\n",
    "             eph.helpers.DFQuery(idx=\"executor\", val=\"CPU\"), \n",
    "             eph.helpers.DFQuery(idx=\"preconditioner\", val=\"none\"), \n",
    "             eph.helpers.DFQuery(idx=\"nSubDomains\", val=32), \n",
    "            ],\n",
    "        plot_properties = {\"linestyle\": \"-\", \"color\": \"red\"})"
   ]
  },
  {
   "cell_type": "code",
   "execution_count": 35,
   "id": "6188fa5d-a595-428a-99ad-482632fa9872",
   "metadata": {
    "tags": []
   },
   "outputs": [
    {
     "data": {
      "application/vnd.jupyter.widget-view+json": {
       "model_id": "fac939930afa42f9aedfc5011ee5f2f1",
       "version_major": 2,
       "version_minor": 0
      },
      "text/plain": [
       "interactive(children=(Dropdown(description='x', options=('nCells', 'solver', 'executor', 'nSubDomains', 'preco…"
      ]
     },
     "metadata": {},
     "output_type": "display_data"
    },
    {
     "data": {
      "text/plain": [
       "<function __main__.draw_plot_faceted_plot(x='nCells', y='SolveP', hue='executor', col='preconditioner', case='LidDrivenCavity3D', style='nSubDomains')>"
      ]
     },
     "execution_count": 35,
     "metadata": {},
     "output_type": "execute_result"
    }
   ],
   "source": [
    "df = deepcopy(dfs[\"LidDrivenCavity3D\"])\n",
    "df = df.reset_index()\n",
    "\n",
    "def draw_plot_faceted_plot(x=\"nCells\", y=\"SolveP\", hue=\"executor\", col=\"preconditioner\", case=\"LidDrivenCavity3D\", style=\"nSubDomains\"):\n",
    "    df = deepcopy(dfs[case])\n",
    "    #df = df[eph.helpers.idx_query_mask(df, [eph.helpers.DFQuery(idx=\"executor\", val=\"CPU\", op=eph.helpers.not_equal())])] \n",
    "    df = df.reset_index()\n",
    "    seaborn.relplot(x=x, y=y, hue=hue, style=style, data=df, col=col, kind=\"line\", markers=True)\n",
    "\n",
    "ipywidgets.interact(\n",
    "    draw_plot_faceted_plot,\n",
    "    x=list(df.columns), \n",
    "    y=list(df.columns),\n",
    "    hue=list(df.columns),\n",
    "    col=list(df.columns),\n",
    "    case=list(dfs.keys())\n",
    ")"
   ]
  },
  {
   "cell_type": "code",
   "execution_count": 36,
   "id": "3d0d3f79-6903-4aa8-b120-6114ad27915f",
   "metadata": {
    "tags": []
   },
   "outputs": [
    {
     "data": {
      "application/vnd.jupyter.widget-view+json": {
       "model_id": "7b53b46a1a5645958c43fce6f21948b2",
       "version_major": 2,
       "version_minor": 0
      },
      "text/plain": [
       "interactive(children=(Dropdown(description='x', options=('nCells', 'solver', 'executor', 'nSubDomains', 'preco…"
      ]
     },
     "metadata": {},
     "output_type": "display_data"
    },
    {
     "data": {
      "text/plain": [
       "<function __main__.draw_plot_faceted_plot(x='nCells', y='SolveP', hue='nSubDomains', col='preconditioner', case='LidDrivenCavity3D', style='executor')>"
      ]
     },
     "execution_count": 36,
     "metadata": {},
     "output_type": "execute_result"
    }
   ],
   "source": [
    "df = deepcopy(dfs[\"LidDrivenCavity3D\"])\n",
    "df = df.reset_index()\n",
    "\n",
    "def draw_plot_faceted_plot(x=\"nCells\", y=\"SolveP\", hue=\"nSubDomains\", col=\"preconditioner\", case=\"LidDrivenCavity3D\", style=\"executor\"):\n",
    "    df = deepcopy(dfs[case])\n",
    "    df = df[eph.helpers.idx_query_mask(df, [eph.helpers.DFQuery(idx=\"executor\", val=\"cuda\", op=eph.helpers.not_equal())])] \n",
    "    df = eph.helpers.compute_speedup(df, cpu_32.queries, drop_indices=[\"solver\"])\n",
    "    df = df.reset_index()\n",
    "    seaborn.relplot(x=x, y=y, hue=hue, style=style, data=df, col=col, kind=\"line\", markers=True)\n",
    "\n",
    "ipywidgets.interact(\n",
    "    draw_plot_faceted_plot,\n",
    "    x=list(df.columns), \n",
    "    y=list(df.columns),\n",
    "    hue=list(df.columns),\n",
    "    col=list(df.columns),\n",
    "    style=list(df.columns),\n",
    "    case=list(dfs.keys())\n",
    ")"
   ]
  },
  {
   "cell_type": "code",
   "execution_count": 37,
   "id": "ead3eafd-8327-422e-b34d-e64322bf694c",
   "metadata": {
    "tags": []
   },
   "outputs": [
    {
     "data": {
      "application/vnd.jupyter.widget-view+json": {
       "model_id": "9556e6fe9bc3499ab9cb115cbe1ea0ba",
       "version_major": 2,
       "version_minor": 0
      },
      "text/plain": [
       "interactive(children=(Dropdown(description='x', options=('nCells', 'nSubDomains'), value='nCells'), Dropdown(d…"
      ]
     },
     "metadata": {},
     "output_type": "display_data"
    },
    {
     "data": {
      "text/plain": [
       "<function __main__.draw_melted_bar_plot(x='nCells', col='executor', sel='nSubDomains', value='')>"
      ]
     },
     "execution_count": 37,
     "metadata": {},
     "output_type": "execute_result"
    }
   ],
   "source": [
    "import pandas as pd\n",
    "def draw_melted_bar_plot(x='nCells', col='executor', sel=\"nSubDomains\", value=\"\"):\n",
    "    df = deepcopy(dfs[\"LidDrivenCavity3D\"])\n",
    "    df = df.reset_index()\n",
    "    melt_idx = ['MomentumPredictor', 'MatrixAssemblyU', 'MatrixAssemblyPI:', 'MatrixAssemblyPII:', 'SolveP']\n",
    "    df = df[df[sel] == value]\n",
    "    for m_idx in melt_idx:\n",
    "        df[m_idx] = df[m_idx]/df['TimeStep']\n",
    "    df = pd.melt(df,  id_vars=['nCells', 'executor', 'nSubDomains',],  value_vars=melt_idx)\n",
    "    seaborn.relplot(x=x, y=\"value\", hue=\"variable\", data=df, col=col, kind=\"line\", markers=True)\n",
    "\n",
    "ipywidgets.interact(\n",
    "    draw_melted_bar_plot,\n",
    "    x=[\"nCells\", \"nSubDomains\"], \n",
    "    col=[\"nCells\", \"nSubDomains\", \"executor\"],\n",
    "    sel=[\"nCells\", \"nSubDomains\", \"executor\"],\n",
    "    value=\"\"\n",
    ")"
   ]
  },
  {
   "cell_type": "code",
   "execution_count": 41,
   "id": "ac009484-73ac-4bea-8dca-832284f6ca7d",
   "metadata": {
    "tags": []
   },
   "outputs": [
    {
     "data": {
      "application/vnd.jupyter.widget-view+json": {
       "model_id": "a5365f045f2c47e791ff48b1a3ed85ef",
       "version_major": 2,
       "version_minor": 0
      },
      "text/plain": [
       "interactive(children=(Dropdown(description='x', options=('nCells', 'nSubDomains'), value='nCells'), Dropdown(d…"
      ]
     },
     "metadata": {},
     "output_type": "display_data"
    },
    {
     "data": {
      "text/plain": [
       "<function __main__.draw_melted_bar_plot(x='nCells', col='executor', sel='executor', value='hip')>"
      ]
     },
     "execution_count": 41,
     "metadata": {},
     "output_type": "execute_result"
    }
   ],
   "source": [
    "import pandas as pd\n",
    "def draw_melted_bar_plot(x='nCells', col='executor', sel=\"executor\", value=\"hip\"):\n",
    "    df = deepcopy(dfs[\"LidDrivenCavity3D\"])\n",
    "    df = df.reset_index()\n",
    "    melt_idx = [\n",
    "       'p: update_local_matrix_data:',\n",
    "       'p: update_non_local_matrix_data:', 'p_matrix: call_update:',\n",
    "       'p_rhs: call_update:', 'p: init_precond:', 'p: generate_solver:',\n",
    "       'p: solve:', 'p: copy_x_back:']\n",
    "    df = df[df[sel] == value]\n",
    "    for m_idx in melt_idx:\n",
    "        df[m_idx] = df[m_idx]/df['TimeStep']\n",
    "    df = pd.melt(df,  id_vars=['nCells', 'executor', 'nSubDomains',],  value_vars=melt_idx)\n",
    "    seaborn.relplot(x=x, y=\"value\", hue=\"variable\", data=df, col=col, kind=\"line\", markers=True)\n",
    "\n",
    "ipywidgets.interact(\n",
    "    draw_melted_bar_plot,\n",
    "    x=[\"nCells\", \"nSubDomains\"], \n",
    "    col=[\"nCells\", \"nSubDomains\", \"executor\"],\n",
    "    sel=[\"nCells\", \"nSubDomains\", \"executor\"],\n",
    "    value=\"hip\"\n",
    ")"
   ]
  },
  {
   "cell_type": "code",
   "execution_count": null,
   "id": "459d90bf-0b47-4cdc-b85f-4ae8ba25b7b7",
   "metadata": {},
   "outputs": [],
   "source": []
  }
 ],
 "metadata": {
  "kernelspec": {
   "display_name": "Python 3 (ipykernel)",
   "language": "python",
   "name": "python3"
  },
  "language_info": {
   "codemirror_mode": {
    "name": "ipython",
    "version": 3
   },
   "file_extension": ".py",
   "mimetype": "text/x-python",
   "name": "python",
   "nbconvert_exporter": "python",
   "pygments_lexer": "ipython3",
   "version": "3.9.16"
  }
 },
 "nbformat": 4,
 "nbformat_minor": 5
}
